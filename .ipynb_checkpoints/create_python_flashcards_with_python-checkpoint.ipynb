{
 "cells": [
  {
   "cell_type": "markdown",
   "metadata": {},
   "source": [
    "# Automating Memorization with Python and Flash Cards\n",
    "## A script to create anki flash cards directly from your keyboard \n",
    "\n",
    "# Automatica Flashcards with Python\n",
    "## Never leave your workspace, remember everything"
   ]
  },
  {
   "cell_type": "markdown",
   "metadata": {},
   "source": [
    "I am a big fan of flash cards, Ever since I read an amazing essay from Michael Nielsen entitled: [\"Augmenting Long Term Memory\"](http://augmentingcognition.com/ltm.html) I became obsessed with them, and recently I started experimenting with difeerent ways of automating their creation to faciliate my study workflow.\n",
    "\n",
    "___In this article I will show you how to use Python to create flashcards automatically without having to leave your digital workspace___"
   ]
  },
  {
   "cell_type": "markdown",
   "metadata": {},
   "source": [
    "## One Script to Create Flash Cards"
   ]
  },
  {
   "cell_type": "markdown",
   "metadata": {},
   "source": [
    "The basic idea will be to use a Pyhton package called `genanki` to create flashcards out of the current content of your clipboard, use that as the answer for a question which you will input through a simple dialog window written with Python's own `Tkinter` framework for simple graphic user interfaces.\n",
    "The steps to write this automation will be:\n",
    "1. Install the necessary external dependencies\n",
    "2. Set up a folder to store the questions\n",
    "3. Write code to get the current clipboard content\n",
    "3. Write code for a dialog window to write down the anki flash cards in question\n",
    "4. Write code to prepare the structure of the anki flash cards using a Python framework called: `genanki`\n",
    "5. Save the file\n",
    "6. Write an automation to call the script with a keyboard shortcut (in Linux, and indications for the corresponding tutorials on Windows and Mac)\n",
    "\n",
    "Now, let's go through each step one by one."
   ]
  },
  {
   "cell_type": "markdown",
   "metadata": {},
   "source": [
    "### 1. Install the necessary external dependencies\n",
    "````\n",
    "pip install tk  genanki\n",
    "````\n",
    "Here, we are installing Python's tkinter package for writing GUIs and [`genanki`](https://github.com/kerrickstaley/genanki), a Python framework to faciliate creating anki flash cards with Python code.\n",
    "\n",
    "### 2 Write code to get the current clipboard content\n",
    "\n",
    "To write the code to get the clipboard content, which will be used as the reference answer for the flash card in question, we will use Python's `clipboard` package"
   ]
  },
  {
   "cell_type": "code",
   "execution_count": 3,
   "metadata": {
    "ExecuteTime": {
     "end_time": "2021-08-16T17:53:33.700267Z",
     "start_time": "2021-08-16T17:53:33.672167Z"
    }
   },
   "outputs": [],
   "source": [
    "import clipboard\n",
    "ankiAnswer = clipboard.paste().strip(\"\\n\")"
   ]
  },
  {
   "cell_type": "markdown",
   "metadata": {},
   "source": [
    "### 3 Write code for a dialog window to write down the anki flash cards in question"
   ]
  },
  {
   "cell_type": "markdown",
   "metadata": {},
   "source": [
    "Now that we have the clipboard content, we wil write code to create a dialog window to input the question."
   ]
  },
  {
   "cell_type": "code",
   "execution_count": 13,
   "metadata": {
    "ExecuteTime": {
     "end_time": "2021-08-16T17:59:05.561179Z",
     "start_time": "2021-08-16T17:57:18.702924Z"
    }
   },
   "outputs": [],
   "source": [
    "import tkinter as tk\n",
    "ROOT = tk.Tk()\n",
    "ROOT.withdraw()\n",
    "# the input dialog\n",
    "question = tk.simpledialog.askstring(title=\"Anki question\",prompt=\"What's your question?:\")"
   ]
  },
  {
   "attachments": {
    "image.png": {
     "image/png": "[encoded data removed]"
    }
   },
   "cell_type": "markdown",
   "metadata": {},
   "source": [
    "![image.png](attachment:image.png)"
   ]
  },
  {
   "cell_type": "markdown",
   "metadata": {},
   "source": [
    "Perfect, three lines of code and we have a dialog window! Life is beautiful! "
   ]
  },
  {
   "cell_type": "markdown",
   "metadata": {
    "ExecuteTime": {
     "end_time": "2021-08-16T17:59:23.851701Z",
     "start_time": "2021-08-16T17:59:23.718330Z"
    }
   },
   "source": [
    "![image.png](mi-pham-FtZL0r4DZYk-unsplash.jpg)"
   ]
  },
  {
   "cell_type": "markdown",
   "metadata": {
    "ExecuteTime": {
     "end_time": "2021-08-16T18:20:13.450319Z",
     "start_time": "2021-08-16T18:20:13.434170Z"
    }
   },
   "source": [
    "Caption: mi-pham-FtZL0r4DZYk-unsplash"
   ]
  },
  {
   "cell_type": "markdown",
   "metadata": {},
   "source": [
    "### 4 Write code to prepare the structure of the anki flash card\n",
    "\n",
    " Here, we will use an amazing Python framework called: [genanki](https://github.com/kerrickstaley/genanki) to create the anki flash card that we will later import to the anki app."
   ]
  },
  {
   "cell_type": "code",
   "execution_count": 15,
   "metadata": {
    "ExecuteTime": {
     "end_time": "2021-08-16T18:02:26.974378Z",
     "start_time": "2021-08-16T18:02:26.967003Z"
    }
   },
   "outputs": [
    {
     "name": "stdout",
     "output_type": "stream",
     "text": [
      "1177550292\n",
      "1864823949\n"
     ]
    }
   ],
   "source": [
    "import random\n",
    "import genanki\n",
    "\n",
    "\n",
    "model_id = random.randrange(1 << 30, 1 << 31)\n",
    "\n",
    "print(model_id)\n",
    "\n",
    "my_model = genanki.Model(model_id ,\n",
    "  'Knowledge',\n",
    "  fields=[\n",
    "    {'name': 'Question'},\n",
    "    {'name': 'Answer'},\n",
    "  ],\n",
    "  templates=[\n",
    "    {\n",
    "      'name': 'Card type 1',\n",
    "      'qfmt': '{{Question}}',\n",
    "      'afmt': '{{FrontSide}}<hr id=\"answer\">{{Answer}}',\n",
    "    },\n",
    "  ])\n",
    "\n",
    "my_note = genanki.Note(\n",
    "  model=my_model,\n",
    "  fields=[f'{question}', f'{ankiAnswer}'])\n",
    "\n",
    "deck_id = random.randrange(1 << 30, 1 << 31)\n",
    "\n",
    "print(deck_id)\n",
    "\n",
    "my_deck = genanki.Deck(deck_id, \"Knowledge\")\n",
    "my_deck.add_note(my_note)"
   ]
  },
  {
   "cell_type": "markdown",
   "metadata": {},
   "source": [
    "There are 3 major parts to this code:\n",
    "1. First we create the model that will define the fields and cards for the type of Note (flash card)\n",
    "2. Then, we create our flash card with `genanki.Note()` using the question and answer that were defined earlier from the cliboard and the dialog box\n",
    "3. Finally, we create our deck called: \"Knowledge\" and add that note\n",
    "\n",
    "To create both model we had to create ids using Python's random package."
   ]
  },
  {
   "cell_type": "markdown",
   "metadata": {},
   "source": [
    "### 5 Save the file to the specified folder"
   ]
  },
  {
   "cell_type": "code",
   "execution_count": 17,
   "metadata": {
    "ExecuteTime": {
     "end_time": "2021-08-16T18:08:39.262637Z",
     "start_time": "2021-08-16T18:08:39.125482Z"
    }
   },
   "outputs": [],
   "source": [
    "from datetime import datetime\n",
    "\n",
    "anki_folder = \"/home/lucassoares/Desktop/projects/self_track/data/anki_questions/\"\n",
    "date = datetime.now()\n",
    "anki_questions_file = anki_folder + f\"anki_question{date}.apkg\"\n",
    "genanki.Package(my_deck).write_to_file(anki_questions_file)"
   ]
  },
  {
   "cell_type": "markdown",
   "metadata": {},
   "source": [
    "Now, we define a folder path where we will store our questions. Each flash card will be a file called `anki_question_` plus the a time tag for when that file was created to allow for better organization when importing the questions and maybe deleting them after."
   ]
  },
  {
   "cell_type": "markdown",
   "metadata": {
    "ExecuteTime": {
     "end_time": "2021-08-13T15:09:17.751768Z",
     "start_time": "2021-08-13T15:09:17.626246Z"
    }
   },
   "source": [
    "### 6 Write an automation shortcut to call the script with a keyboard shortcut (in Linux, Windows and Mac)"
   ]
  },
  {
   "cell_type": "markdown",
   "metadata": {
    "ExecuteTime": {
     "end_time": "2021-08-13T15:17:57.449619Z",
     "start_time": "2021-08-13T15:17:57.443053Z"
    }
   },
   "source": [
    "Now, this part is different depending on the machine you  are using, so let's go through each situation, starting with Linux (my case):"
   ]
  },
  {
   "cell_type": "markdown",
   "metadata": {},
   "source": [
    "I am currently using a Pop!OS running ubuntu 21.04, so to create a shortcut in my machine the steps will be:"
   ]
  },
  {
   "cell_type": "markdown",
   "metadata": {},
   "source": [
    "1. Save the script with a file name like: `ankify.py`\n",
    "2. Get the path for that script by typing\n",
    "```realpath ankify.py``` on the terminal\n",
    "3. Go to `Settings>Keyboard>Customize Shortcuts>Custom Shortcuts>click Add Shortcut`\n",
    "4. A window will appear to set your custom shortcut, give your shortcut a name like `ankify`\n",
    "5. Below the name input you will input the command which in this case is the path for your python executable and the path to the script\n",
    "    1. To get the path to your python executable type this in the terminal:  ```which python```\n",
    "        2. Remember to be in the right virtual environment in case you are using one!\n",
    "    2. Type in the command input both the path to the Python executable and your script: `path/to/python path/to/ankify.py`\n",
    "6. Set a keyboard shortcut for that command (in my case is `CTRL + F10`\n",
    "7. Press `OK` and now you are good to go!"
   ]
  },
  {
   "cell_type": "markdown",
   "metadata": {
    "ExecuteTime": {
     "end_time": "2021-08-16T18:20:52.326045Z",
     "start_time": "2021-08-16T18:20:52.323985Z"
    }
   },
   "source": [
    "#### In Windows machines"
   ]
  },
  {
   "cell_type": "markdown",
   "metadata": {},
   "source": [
    "Use this [tutorial](https://www.reddit.com/r/learnpython/comments/b6ljed/triggering_your_python_scripts_via_keyboard/) to create the shortcut using Autohotkeys"
   ]
  },
  {
   "cell_type": "markdown",
   "metadata": {},
   "source": [
    "#### For Mac machines"
   ]
  },
  {
   "cell_type": "markdown",
   "metadata": {},
   "source": [
    "Had a bit of a hard time finding a simpe solution for Mac but these two resources seem to be the best examples I could find:\n",
    "- [Keyboard Maestro](http://www.keyboardmaestro.com/main/)\n",
    "- [Apple Script and QuickSilver tutorial](https://www.chriswrites.com/customise-macos-keyboard-shortcut-applescript-quicksilver/)\n",
    "- [Custom Hotkey tutorial](https://dev.to/adamlombard/macos-run-a-script-in-any-app-via-custom-hotkey-4n99)"
   ]
  },
  {
   "cell_type": "markdown",
   "metadata": {},
   "source": [
    "A final note is that you could also use `genanki` to create flashcards for media files like audio and images, see more on that in the repository [here](https://github.com/kerrickstaley/genanki#:~:text=Import...-,Media%20Files,To,-add%20sounds%20or)."
   ]
  },
  {
   "cell_type": "markdown",
   "metadata": {},
   "source": [
    "# A Last Note on Automating Flash Cards"
   ]
  },
  {
   "cell_type": "markdown",
   "metadata": {},
   "source": [
    "Flash cards are an amazing resource to use, the idea that you can get more control and ownership over your memory is just too powerful to be left aside. Using automationg like these can help you speed up your thinking workflow and help you focused on your work without being concerned that you will forget the details."
   ]
  },
  {
   "cell_type": "markdown",
   "metadata": {},
   "source": [
    "---"
   ]
  },
  {
   "cell_type": "markdown",
   "metadata": {},
   "source": [
    "If you liked this post connect with me on [Twitter](https://twitter.com/LucasEnkrateia), [LinkedIn](https://www.linkedin.com/in/lucas-soares-969044167/), [Instagram](https://www.instagram.com/theaugmentedself/), and follow me on [Medium](https://lucas-soares.medium.com/).\n",
    "Thanks and see you next time! :)"
   ]
  },
  {
   "cell_type": "markdown",
   "metadata": {},
   "source": [
    "---"
   ]
  },
  {
   "cell_type": "markdown",
   "metadata": {},
   "source": [
    "# References  \n",
    "\n",
    "- [\"Augmenting Long Term Memory\"](http://augmentingcognition.com/ltm.html)\n",
    "- [Genanki framework](https://github.com/kerrickstaley/genanki)\n",
    "- [Creating python script keyboard shortcuts with autohotkeys](https://www.reddit.com/r/learnpython/comments/b6ljed/triggering_your_python_scripts_via_keyboard/)\n",
    "- [Keyboard Maestro](http://www.keyboardmaestro.com/main/)\n",
    "- [Apple Script and QuickSilver tutorial](https://www.chriswrites.com/customise-macos-keyboard-shortcut-applescript-quicksilver/)\n",
    "- [Custom Hotkey tutorial](https://dev.to/adamlombard/macos-run-a-script-in-any-app-via-custom-hotkey-4n99)"
   ]
  }
 ],
 "metadata": {
  "hide_input": false,
  "kernelspec": {
   "display_name": "medium",
   "language": "python",
   "name": "medium"
  },
  "language_info": {
   "codemirror_mode": {
    "name": "ipython",
    "version": 3
   },
   "file_extension": ".py",
   "mimetype": "text/x-python",
   "name": "python",
   "nbconvert_exporter": "python",
   "pygments_lexer": "ipython3",
   "version": "3.8.5"
  },
  "toc": {
   "base_numbering": 1,
   "nav_menu": {},
   "number_sections": true,
   "sideBar": true,
   "skip_h1_title": false,
   "title_cell": "Table of Contents",
   "title_sidebar": "Contents",
   "toc_cell": false,
   "toc_position": {},
   "toc_section_display": true,
   "toc_window_display": false
  },
  "varInspector": {
   "cols": {
    "lenName": 16,
    "lenType": 16,
    "lenVar": 40
   },
   "kernels_config": {
    "python": {
     "delete_cmd_postfix": "",
     "delete_cmd_prefix": "del ",
     "library": "var_list.py",
     "varRefreshCmd": "print(var_dic_list())"
    },
    "r": {
     "delete_cmd_postfix": ") ",
     "delete_cmd_prefix": "rm(",
     "library": "var_list.r",
     "varRefreshCmd": "cat(var_dic_list()) "
    }
   },
   "types_to_exclude": [
    "module",
    "function",
    "builtin_function_or_method",
    "instance",
    "_Feature"
   ],
   "window_display": false
  }
 },
 "nbformat": 4,
 "nbformat_minor": 4
}
